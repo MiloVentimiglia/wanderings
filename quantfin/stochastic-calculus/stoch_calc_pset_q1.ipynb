{
 "cells": [
  {
   "cell_type": "markdown",
   "metadata": {},
   "source": [
    "# Stochastic Calculus Problem Set I: Question 1"
   ]
  },
  {
   "cell_type": "code",
   "execution_count": 1,
   "metadata": {},
   "outputs": [],
   "source": [
    "import numpy as np\n",
    "import pandas as pd"
   ]
  },
  {
   "cell_type": "code",
   "execution_count": 2,
   "metadata": {},
   "outputs": [],
   "source": [
    "# As specified in question setup and part (e)\n",
    "u = 1.005\n",
    "d = 1.002\n",
    "r = 0.003\n",
    "p_1 = 0.4\n",
    "p_2 = 0.6\n",
    "N = 100\n",
    "L = 1000\n",
    "S_0 = 1\n",
    "\n",
    "# Assert that model is arbitrage-free\n",
    "assert d < 1+r, 'd >= 1+r. This model is not arbitrage-free.'\n",
    "assert 1+r < u, '1+r >= u. This model is not arbitrage-free.'"
   ]
  },
  {
   "cell_type": "markdown",
   "metadata": {},
   "source": [
    "## Part (a)\n",
    "\n",
    "For the binomial asset pricing model, $$ S_n = (\\prod_{i=1}^{N}{y_i}) S_0 $$\n",
    "\n",
    "where $y_i = u$ if the result of the $i$th coin toss is heads or $y_i = d$ if the result of the $i$th coin toss is tails.\n",
    "\n",
    "Let $$ R_n = \\log(\\frac{S_n}{S_0}) $$\n",
    "\n",
    "Then,\n",
    "\n",
    "$$ R_n = \\sum_{i=1}^{N}{\\log y_i} $$\n",
    "\n",
    "$$ \\implies R_n = (\\log u - \\log d)\\sum_{i=1}^{N}{Y_n} + n\\log d$$\n",
    "\n",
    "where $Y_n \\sim B(n, p)$.\n",
    "\n",
    "Thus,\n",
    "\n",
    "$$ E(R_n) = (\\log u - \\log d)(np) + n\\log(d) = n(p\\log u + (1-p)\\log d) $$\n",
    "\n",
    "and\n",
    "\n",
    "$$ Var(R_n) = (\\log u - \\log d)^2 np(1-p) $$"
   ]
  },
  {
   "cell_type": "markdown",
   "metadata": {},
   "source": [
    "## Part (b)"
   ]
  },
  {
   "cell_type": "code",
   "execution_count": 3,
   "metadata": {},
   "outputs": [],
   "source": [
    "def risk_neutral_probabilities(u, d, r):\n",
    "    '''\n",
    "    Computes risk neutral probabilities from binomial\n",
    "    model parameters (u and d) and risk-free rate (r).\n",
    "    '''\n",
    "    p_tilde = ((1+r) - d) / (u - d)\n",
    "    q_tilde = (u - (1+r)) / (u - d)\n",
    "    return p_tilde, q_tilde\n",
    "\n",
    "\n",
    "p_tilde, q_tilde = risk_neutral_probabilities(u, d, r)"
   ]
  },
  {
   "cell_type": "markdown",
   "metadata": {},
   "source": [
    "## Part (c)"
   ]
  },
  {
   "cell_type": "code",
   "execution_count": 4,
   "metadata": {},
   "outputs": [],
   "source": [
    "def stock_value(path):\n",
    "    '''\n",
    "    Computes the value of a stock given some path\n",
    "    (a NumPy array of 0s and 1s).\n",
    "    Returns the value of the stock at time N.\n",
    "    '''\n",
    "    return S_0 * np.prod((u - d)*path + d)\n",
    "\n",
    "\n",
    "path = np.random.randint(low=0, high=2, size=N)"
   ]
  },
  {
   "cell_type": "code",
   "execution_count": 5,
   "metadata": {},
   "outputs": [],
   "source": [
    "def one_step_back(omega_np1, X_np1, derivative_value, stock_value):\n",
    "    heads_case = np.append(omega_np1[:-1], 1)\n",
    "    tails_case = np.append(omega_np1[:-1], 0)\n",
    "    numerator = derivative_value(heads_case) - derivative_value(tails_case)\n",
    "    denominator = stock_value(heads_case) - stock_value(tails_case)\n",
    "    delta_n = numerator / denominator\n",
    "    X_n = 1/(1+r) * (X_np1 - delta_n*(stock_value(omega_np1) - (1+r)*stock_value(omega_np1[:-1])))\n",
    "    return delta_n, X_n"
   ]
  },
  {
   "cell_type": "markdown",
   "metadata": {},
   "source": [
    "## Part (d)"
   ]
  },
  {
   "cell_type": "code",
   "execution_count": 17,
   "metadata": {},
   "outputs": [],
   "source": [
    "def lookback_derivative(path):\n",
    "    return max(S_0 * np.cumprod((u-d)*path + d))"
   ]
  },
  {
   "cell_type": "code",
   "execution_count": 18,
   "metadata": {},
   "outputs": [],
   "source": [
    "def european_call(paths, strike_price):\n",
    "    # If there is only one path, coerce to 2D\n",
    "    if len(paths.shape) == 1:\n",
    "        paths = np.atleast_2d(paths)\n",
    "    S_N = (S_0 * np.cumprod((u-d)*paths + d, axis=-1))[:, -1]\n",
    "    out = S_N.copy()\n",
    "    out[S_N - strike_price <= 0] = 0\n",
    "    return out"
   ]
  },
  {
   "cell_type": "code",
   "execution_count": 19,
   "metadata": {},
   "outputs": [],
   "source": [
    "def european_put(paths, strike_price):\n",
    "    # If there is only one path, coerce to 2D\n",
    "    if len(paths.shape) == 1:\n",
    "        paths = np.atleast_2d(paths)\n",
    "    S_N = (S_0 * np.cumprod((u-d)*paths + d, axis=-1))[:, -1]\n",
    "    out = S_N.copy()\n",
    "    out[strike_price - S_N <= 0] = 0    \n",
    "    return out"
   ]
  },
  {
   "cell_type": "code",
   "execution_count": 22,
   "metadata": {},
   "outputs": [],
   "source": [
    "# Check that the functions work\n",
    "path = np.random.binomial(n=1, p=p_tilde, size=[100])\n",
    "value1 = lookback_derivative(path)\n",
    "value2 = european_call(path, 1)\n",
    "value3 = european_put(path, 1)"
   ]
  },
  {
   "cell_type": "markdown",
   "metadata": {},
   "source": [
    "## Part (e)"
   ]
  },
  {
   "cell_type": "code",
   "execution_count": 36,
   "metadata": {},
   "outputs": [],
   "source": [
    "probabilities = [p_tilde, p_1, p_2]\n",
    "strike_prices = [S_0 * np.exp(N*(p*np.log(u) + (1-p)*np.log(d)))\n",
    "                 for p in probabilities]"
   ]
  },
  {
   "cell_type": "code",
   "execution_count": 39,
   "metadata": {},
   "outputs": [],
   "source": [
    "# Bernoulli(p) = B(1, p)\n",
    "paths_1 = np.random.binomial(n=1, p=p_1, size=[L, N])\n",
    "E1_V_N_call = [np.mean(european_call(paths_1, K)) for K in strike_prices]\n",
    "E1_V_N_put = [np.mean(european_put(paths_1, K)) for K in strike_prices]\n",
    "\n",
    "paths_2 = np.random.binomial(n=1, p=p_2, size=[L, N])\n",
    "E2_V_N_call = [np.mean(european_call(paths_2, K)) for K in strike_prices]\n",
    "E2_V_N_put = [np.mean(european_put(paths_2, K)) for K in strike_prices]"
   ]
  },
  {
   "cell_type": "markdown",
   "metadata": {},
   "source": [
    "## Part (f)\n",
    "\n",
    "# AGAIN, DISCOUNT THE EXPECTED VALUE!!!\n",
    "\n",
    "By the martingale property, $V_0 = \\tilde{E}(\\frac{V_N}{(1+r)^N})$. But we compute $\\tilde{E}$ using a Monte Carlo approach, so we need only average."
   ]
  },
  {
   "cell_type": "code",
   "execution_count": 42,
   "metadata": {},
   "outputs": [],
   "source": [
    "paths_tilde = np.random.binomial(n=1, p=p_tilde, size=[L, N])\n",
    "Etilde_V_0_call = [np.mean(european_call(paths_tilde, K) / (1+r)**N) for K in strike_prices]\n",
    "Etilde_V_0_put = [np.mean(european_put(paths_tilde, K) / (1+r)**N) for K in strike_prices]"
   ]
  },
  {
   "cell_type": "markdown",
   "metadata": {},
   "source": [
    "## Part (g)"
   ]
  },
  {
   "cell_type": "code",
   "execution_count": 43,
   "metadata": {},
   "outputs": [
    {
     "data": {
      "text/plain": [
       "1.376242445394276"
      ]
     },
     "execution_count": 43,
     "metadata": {},
     "output_type": "execute_result"
    }
   ],
   "source": [
    "path = np.random.binomial(n=1, p=1/2, size=N)\n",
    "\n",
    "delta_nm1, X_nm1  = \\\n",
    "    one_step_back(path, stock_value(path),\n",
    "                  lambda x: european_call(x, strike_prices[0]).item(),\n",
    "                  stock_value)\n",
    "delta_nm2, X_nm2 = \\\n",
    "    one_step_back(path[:-1], X_nm1,\n",
    "                  lambda x: european_call(x, strike_prices[0]).item(),\n",
    "                  stock_value)\n",
    "delta_nm3, X_nm3 = \\\n",
    "    one_step_back(path[:-1], X_nm2,\n",
    "                  lambda x: european_call(x, strike_prices[0]).item(),\n",
    "                  stock_value)\n",
    "\n",
    "X_nm3"
   ]
  },
  {
   "cell_type": "code",
   "execution_count": 44,
   "metadata": {},
   "outputs": [
    {
     "data": {
      "text/plain": [
       "1.413790978298389"
      ]
     },
     "execution_count": 44,
     "metadata": {},
     "output_type": "execute_result"
    }
   ],
   "source": [
    "path = np.random.binomial(n=1, p=1/2, size=N)\n",
    "\n",
    "delta_nm1, X_nm1  = \\\n",
    "    one_step_back(path, stock_value(path),\n",
    "                  lambda x: european_call(x, strike_prices[0]).item(),\n",
    "                  stock_value)\n",
    "delta_nm2, X_nm2 = \\\n",
    "    one_step_back(path[:-1], X_nm1,\n",
    "                  lambda x: european_call(x, strike_prices[0]).item(),\n",
    "                  stock_value)\n",
    "delta_nm3, X_nm3 = \\\n",
    "    one_step_back(path[:-1], X_nm2,\n",
    "                  lambda x: european_call(x, strike_prices[0]).item(),\n",
    "                  stock_value)\n",
    "\n",
    "X_nm3"
   ]
  },
  {
   "cell_type": "code",
   "execution_count": 45,
   "metadata": {},
   "outputs": [
    {
     "data": {
      "text/plain": [
       "1.3969853286344236"
      ]
     },
     "execution_count": 45,
     "metadata": {},
     "output_type": "execute_result"
    }
   ],
   "source": [
    "path = np.random.binomial(n=1, p=1/2, size=N)\n",
    "\n",
    "delta_nm1, X_nm1  = \\\n",
    "    one_step_back(path, stock_value(path),\n",
    "                  lambda x: european_call(x, strike_prices[0]).item(),\n",
    "                  stock_value)\n",
    "delta_nm2, X_nm2 = \\\n",
    "    one_step_back(path[:-1], X_nm1,\n",
    "                  lambda x: european_call(x, strike_prices[0]).item(),\n",
    "                  stock_value)\n",
    "delta_nm3, X_nm3 = \\\n",
    "    one_step_back(path[:-1], X_nm2,\n",
    "                  lambda x: european_call(x, strike_prices[0]).item(),\n",
    "                  stock_value)\n",
    "\n",
    "X_nm3"
   ]
  },
  {
   "cell_type": "markdown",
   "metadata": {},
   "source": [
    "## Part (h)\n",
    "# DISCOUNT THE EXPECTED VALUES!!!"
   ]
  },
  {
   "cell_type": "code",
   "execution_count": 47,
   "metadata": {},
   "outputs": [
    {
     "ename": "TypeError",
     "evalue": "unsupported operand type(s) for /: 'list' and 'float'",
     "output_type": "error",
     "traceback": [
      "\u001b[0;31m---------------------------------------------------------------------------\u001b[0m",
      "\u001b[0;31mTypeError\u001b[0m                                 Traceback (most recent call last)",
      "\u001b[0;32m<ipython-input-47-7712c0587f12>\u001b[0m in \u001b[0;36m<module>\u001b[0;34m()\u001b[0m\n\u001b[1;32m      1\u001b[0m results = np.vstack([\n\u001b[0;32m----> 2\u001b[0;31m     \u001b[0mE1_V_N_call\u001b[0m \u001b[0;34m/\u001b[0m \u001b[0;34m(\u001b[0m\u001b[0;36m1\u001b[0m\u001b[0;34m+\u001b[0m\u001b[0mr\u001b[0m\u001b[0;34m)\u001b[0m\u001b[0;34m**\u001b[0m\u001b[0mN\u001b[0m\u001b[0;34m,\u001b[0m\u001b[0;34m\u001b[0m\u001b[0m\n\u001b[0m\u001b[1;32m      3\u001b[0m     \u001b[0mE1_V_N_put\u001b[0m \u001b[0;34m/\u001b[0m \u001b[0;34m(\u001b[0m\u001b[0;36m1\u001b[0m\u001b[0;34m+\u001b[0m\u001b[0mr\u001b[0m\u001b[0;34m)\u001b[0m\u001b[0;34m**\u001b[0m\u001b[0mN\u001b[0m\u001b[0;34m,\u001b[0m\u001b[0;34m\u001b[0m\u001b[0m\n\u001b[1;32m      4\u001b[0m     \u001b[0mE2_V_N_call\u001b[0m \u001b[0;34m/\u001b[0m \u001b[0;34m(\u001b[0m\u001b[0;36m1\u001b[0m\u001b[0;34m+\u001b[0m\u001b[0mr\u001b[0m\u001b[0;34m)\u001b[0m\u001b[0;34m**\u001b[0m\u001b[0mN\u001b[0m\u001b[0;34m,\u001b[0m\u001b[0;34m\u001b[0m\u001b[0m\n\u001b[1;32m      5\u001b[0m     \u001b[0mE2_V_N_put\u001b[0m \u001b[0;34m/\u001b[0m \u001b[0;34m(\u001b[0m\u001b[0;36m1\u001b[0m\u001b[0;34m+\u001b[0m\u001b[0mr\u001b[0m\u001b[0;34m)\u001b[0m\u001b[0;34m**\u001b[0m\u001b[0mN\u001b[0m\u001b[0;34m,\u001b[0m\u001b[0;34m\u001b[0m\u001b[0m\n",
      "\u001b[0;31mTypeError\u001b[0m: unsupported operand type(s) for /: 'list' and 'float'"
     ]
    }
   ],
   "source": [
    "results = np.vstack([\n",
    "    E1_V_N_call / (1+r)**N,\n",
    "    E1_V_N_put / (1+r)**N,\n",
    "    E2_V_N_call / (1+r)**N,\n",
    "    E2_V_N_put / (1+r)**N,\n",
    "    Etilde_V_0_call,\n",
    "    Etilde_V_0_put\n",
    "])\n",
    "\n",
    "names = [\n",
    "    'E1_V_N_call',\n",
    "    'E1_V_N_put',\n",
    "    'E2_V_N_call',\n",
    "    'E2_V_N_put',\n",
    "    'Etilde_V_0_call',\n",
    "    'Etilde_V_0_put'\n",
    "]\n",
    "\n",
    "strikes = ['K_tilde', 'K_1', 'K_2']\n",
    "\n",
    "pd.DataFrame(data=results,\n",
    "             index=names,\n",
    "             columns=strikes)"
   ]
  },
  {
   "cell_type": "code",
   "execution_count": null,
   "metadata": {},
   "outputs": [],
   "source": []
  }
 ],
 "metadata": {
  "kernelspec": {
   "display_name": "Python 3",
   "language": "python",
   "name": "python3"
  },
  "language_info": {
   "codemirror_mode": {
    "name": "ipython",
    "version": 3
   },
   "file_extension": ".py",
   "mimetype": "text/x-python",
   "name": "python",
   "nbconvert_exporter": "python",
   "pygments_lexer": "ipython3",
   "version": "3.6.5"
  }
 },
 "nbformat": 4,
 "nbformat_minor": 2
}
